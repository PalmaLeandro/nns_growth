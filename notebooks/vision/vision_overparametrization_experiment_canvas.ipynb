{
 "cells": [
  {
   "cell_type": "markdown",
   "id": "ce9b5d69",
   "metadata": {
    "slideshow": {
     "slide_type": "slide"
    },
    "tags": []
   },
   "source": [
    "# Vision overparametrization experiment(WIP)\n",
    "## TODO"
   ]
  },
  {
   "cell_type": "code",
   "execution_count": 1,
   "id": "c19a64b1",
   "metadata": {},
   "outputs": [
    {
     "data": {
      "application/vnd.jupyter.widget-view+json": {
       "model_id": "f4c822b8f0494775aff97e7c64f4de18",
       "version_major": 2,
       "version_minor": 0
      },
      "text/plain": [
       "Canvas(height=1000, width=1000)"
      ]
     },
     "execution_count": 1,
     "metadata": {},
     "output_type": "execute_result"
    }
   ],
   "source": [
    "import ipycanvas\n",
    "\n",
    "canvas = ipycanvas.Canvas()\n",
    "canvas.width = canvas.height = 1000; canvas.font = \"30px arial\"\n",
    "canvas.fill_text('Results will appear as processed', canvas.width / 4, canvas.height / 3)\n",
    "canvas"
   ]
  },
  {
   "cell_type": "code",
   "execution_count": null,
   "id": "e3fd8e35-eed8-4ace-9221-e11340c114e4",
   "metadata": {},
   "outputs": [
    {
     "name": "stdout",
     "output_type": "stream",
     "text": [
      "Files already downloaded and verified\n",
      "Files already downloaded and verified\n"
     ]
    }
   ],
   "source": [
    "from experiment import execute_experiment\n",
    "\n",
    "experiment_results = execute_experiment(\n",
    "    seed=123,\n",
    "    batch_size=1,\n",
    "    epochs=90,\n",
    "    learning_rate=1e-3,\n",
    "    channels_settings=[8, 16, 32, 64, 128, 256, 512, 1024],\n",
    "    runs_per_model=5,\n",
    "    data_path='./data/',\n",
    "    save_models_path='./models/',\n",
    "    save_experiments_path='./experiments/',\n",
    "    plot_results_on_canvas=canvas\n",
    ")"
   ]
  }
 ],
 "metadata": {
  "kernelspec": {
   "display_name": "Python 3 (ipykernel)",
   "language": "python",
   "name": "python3"
  },
  "language_info": {
   "codemirror_mode": {
    "name": "ipython",
    "version": 3
   },
   "file_extension": ".py",
   "mimetype": "text/x-python",
   "name": "python",
   "nbconvert_exporter": "python",
   "pygments_lexer": "ipython3",
   "version": "3.10.11"
  }
 },
 "nbformat": 4,
 "nbformat_minor": 5
}
